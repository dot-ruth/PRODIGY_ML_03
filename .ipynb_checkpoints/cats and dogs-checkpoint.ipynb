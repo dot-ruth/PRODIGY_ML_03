{
 "cells": [
  {
   "cell_type": "code",
   "execution_count": 3,
   "id": "4eb36aa0-9070-478f-a6d0-bf20fbeff996",
   "metadata": {},
   "outputs": [
    {
     "ename": "ModuleNotFoundError",
     "evalue": "No module named 'cv2'",
     "output_type": "error",
     "traceback": [
      "\u001b[1;31m---------------------------------------------------------------------------\u001b[0m",
      "\u001b[1;31mModuleNotFoundError\u001b[0m                       Traceback (most recent call last)",
      "Cell \u001b[1;32mIn[3], line 2\u001b[0m\n\u001b[0;32m      1\u001b[0m \u001b[38;5;28;01mimport\u001b[39;00m \u001b[38;5;21;01mos\u001b[39;00m\n\u001b[1;32m----> 2\u001b[0m \u001b[38;5;28;01mimport\u001b[39;00m \u001b[38;5;21;01mcv2\u001b[39;00m\n\u001b[0;32m      3\u001b[0m \u001b[38;5;28;01mimport\u001b[39;00m \u001b[38;5;21;01mnumpy\u001b[39;00m \u001b[38;5;28;01mas\u001b[39;00m \u001b[38;5;21;01mnp\u001b[39;00m\n\u001b[0;32m      4\u001b[0m \u001b[38;5;28;01mfrom\u001b[39;00m \u001b[38;5;21;01msklearn\u001b[39;00m\u001b[38;5;21;01m.\u001b[39;00m\u001b[38;5;21;01mmodel_selection\u001b[39;00m \u001b[38;5;28;01mimport\u001b[39;00m train_test_split\n",
      "\u001b[1;31mModuleNotFoundError\u001b[0m: No module named 'cv2'"
     ]
    }
   ],
   "source": [
    "import os\n",
    "import cv2\n",
    "import numpy as np\n",
    "from sklearn.model_selection import train_test_split\n",
    "from sklearn.preprocessing import LabelEncoder\n",
    "from sklearn.svm import SVC\n",
    "from sklearn.metrics import accuracy_score\n",
    "\n",
    "# Set the path to the dataset\n",
    "dataset_folder = \"train\"\n",
    "\n",
    "# Initialize data and labels lists\n",
    "data = []\n",
    "labels = []\n",
    "\n",
    "# Image processing parameters\n",
    "image_size = (64, 64)  # Resize images to 64x64 pixels\n",
    "\n",
    "# Load images and assign labels based on filenames\n",
    "for img_name in os.listdir(dataset_folder):\n",
    "    img_path = os.path.join(dataset_folder, img_name)\n",
    "    img = cv2.imread(img_path, cv2.IMREAD_GRAYSCALE)  # Load image in grayscale\n",
    "    img = cv2.resize(img, image_size)  # Resize image\n",
    "    img = img.flatten()  # Flatten the image to a 1D array\n",
    "    data.append(img)\n",
    "    \n",
    "    # Assign label based on filename\n",
    "    if \"cat\" in img_name:\n",
    "        labels.append(\"cat\")\n",
    "    elif \"dog\" in img_name:\n",
    "        labels.append(\"dog\")\n",
    "\n",
    "# Convert lists to numpy arrays\n",
    "data = np.array(data)\n",
    "labels = np.array(labels)\n",
    "\n",
    "# Encode labels to integers (cats=0, dogs=1)\n",
    "le = LabelEncoder()\n",
    "labels = le.fit_transform(labels)\n",
    "\n",
    "# Split the data into training and testing sets\n",
    "X_train, X_test, y_train, y_test = train_test_split(data, labels, test_size=0.2, random_state=42)\n",
    "\n",
    "# Train the SVM model\n",
    "svm = SVC(kernel='linear', random_state=42)\n",
    "svm.fit(X_train, y_train)\n",
    "\n",
    "# Make predictions on the test set\n",
    "y_pred = svm.predict(X_test)\n",
    "\n",
    "# Evaluate the model\n",
    "accuracy = accuracy_score(y_test, y_pred)\n",
    "print(f\"Accuracy: {accuracy:.2f}\")\n",
    "\n",
    "# Example prediction on a new image\n",
    "test_image_path = \"path_to_some_image\"\n",
    "test_img = cv2.imread(test_image_path, cv2.IMREAD_GRAYSCALE)\n",
    "test_img = cv2.resize(test_img, image_size)\n",
    "test_img = test_img.flatten().reshape(1, -1)\n",
    "prediction = svm.predict(test_img)\n",
    "print(f\"Predicted class: {le.inverse_transform(prediction)[0]}\")\n"
   ]
  },
  {
   "cell_type": "code",
   "execution_count": null,
   "id": "047b69e4-4eae-4832-ae33-10cad5f8373d",
   "metadata": {},
   "outputs": [],
   "source": []
  }
 ],
 "metadata": {
  "kernelspec": {
   "display_name": "Python 3 (ipykernel)",
   "language": "python",
   "name": "python3"
  },
  "language_info": {
   "codemirror_mode": {
    "name": "ipython",
    "version": 3
   },
   "file_extension": ".py",
   "mimetype": "text/x-python",
   "name": "python",
   "nbconvert_exporter": "python",
   "pygments_lexer": "ipython3",
   "version": "3.12.4"
  }
 },
 "nbformat": 4,
 "nbformat_minor": 5
}
